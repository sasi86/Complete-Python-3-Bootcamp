{
 "cells": [
  {
   "cell_type": "markdown",
   "metadata": {},
   "source": [
    "# Milestone Project 1: Walkthrough Steps Workbook\n",
    "\n",
    "Below is a set of steps for you to follow to try to create the Tic Tac Toe Milestone Project game!"
   ]
  },
  {
   "cell_type": "markdown",
   "metadata": {},
   "source": [
    "#### Some suggested tools before you get started:\n",
    "To take input from a user:\n",
    "\n",
    "    player1 = input(\"Please pick a marker 'X' or 'O'\")\n",
    "    \n",
    "Note that input() takes in a string. If you need an integer value, use\n",
    "\n",
    "    position = int(input('Please enter a number'))\n",
    "    \n",
    "<br>To clear the screen between moves:\n",
    "\n",
    "    from IPython.display import clear_output\n",
    "    clear_output()\n",
    "    \n",
    "Note that clear_output() will only work in jupyter. To clear the screen in other IDEs, consider:\n",
    "\n",
    "    print('\\n'*100)\n",
    "    \n",
    "This scrolls the previous board up out of view. Now on to the program!"
   ]
  },
  {
   "cell_type": "markdown",
   "metadata": {},
   "source": [
    "**Step 1: Write a function that can print out a board. Set up your board as a list, where each index 1-9 corresponds with a number on a number pad, so you get a 3 by 3 board representation.**"
   ]
  },
  {
   "cell_type": "code",
   "execution_count": 2,
   "metadata": {},
   "outputs": [],
   "source": [
    "from IPython.display import clear_output\n",
    "\n",
    "def display_board(board):\n",
    "    clear_output();\n",
    "    print(\"  | |  \")\n",
    "    print(' '+board[7]+'|'+board[8]+'|'+board[9]+' ')\n",
    "    print(\"  | |  \")\n",
    "    print(\"-------\")\n",
    "    print(\"  | |  \")\n",
    "    print(' '+board[4]+'|'+board[5]+'|'+board[6]+' ')\n",
    "    print(\"  | |  \")\n",
    "    print(\"-------\")\n",
    "    print(\"  | |  \")\n",
    "    print(' '+board[1]+'|'+board[2]+'|'+board[3]+' ')\n",
    "    print(\"  | |  \")"
   ]
  },
  {
   "cell_type": "markdown",
   "metadata": {},
   "source": [
    "**TEST Step 1:** run your function on a test version of the board list, and make adjustments as necessary"
   ]
  },
  {
   "cell_type": "code",
   "execution_count": 3,
   "metadata": {},
   "outputs": [
    {
     "name": "stdout",
     "output_type": "stream",
     "text": [
      "  | |  \n",
      "  | |  \n",
      "  | |  \n",
      "-------\n",
      "  | |  \n",
      "  | |  \n",
      "  | |  \n",
      "-------\n",
      "  | |  \n",
      "  | |  \n",
      "  | |  \n"
     ]
    }
   ],
   "source": [
    "board = [' '] * 10\n",
    "display_board(board)"
   ]
  },
  {
   "cell_type": "markdown",
   "metadata": {},
   "source": [
    "**Step 2: Write a function that can take in a player input and assign their marker as 'X' or 'O'. Think about using *while* loops to continually ask until you get a correct answer.**"
   ]
  },
  {
   "cell_type": "code",
   "execution_count": 4,
   "metadata": {},
   "outputs": [],
   "source": [
    "player1 = ''\n",
    "player2 = ''\n",
    "def player_input():\n",
    "    global player1\n",
    "    global player2\n",
    "    while True:\n",
    "        player1 = input(\"Please pick a marker 'X' or 'O'\").upper()        \n",
    "        if player1 == 'X': \n",
    "            player2 = 'O'\n",
    "            break\n",
    "        elif player1 == 'O':\n",
    "            player2 = 'X'\n",
    "            break"
   ]
  },
  {
   "cell_type": "markdown",
   "metadata": {},
   "source": [
    "**TEST Step 2:** run the function to make sure it returns the desired output"
   ]
  },
  {
   "cell_type": "code",
   "execution_count": 5,
   "metadata": {},
   "outputs": [
    {
     "data": {
      "text/plain": [
       "''"
      ]
     },
     "execution_count": 5,
     "metadata": {},
     "output_type": "execute_result"
    }
   ],
   "source": [
    "#player_input()\n",
    "player1"
   ]
  },
  {
   "cell_type": "markdown",
   "metadata": {},
   "source": [
    "**Step 3: Write a function that takes in the board list object, a marker ('X' or 'O'), and a desired position (number 1-9) and assigns it to the board.**"
   ]
  },
  {
   "cell_type": "code",
   "execution_count": 6,
   "metadata": {},
   "outputs": [],
   "source": [
    "def place_marker(board, marker, position):\n",
    "    board[position] = marker"
   ]
  },
  {
   "cell_type": "markdown",
   "metadata": {},
   "source": [
    "**TEST Step 3:** run the place marker function using test parameters and display the modified board"
   ]
  },
  {
   "cell_type": "code",
   "execution_count": 7,
   "metadata": {},
   "outputs": [
    {
     "name": "stdout",
     "output_type": "stream",
     "text": [
      "  | |  \n",
      "  |X|  \n",
      "  | |  \n",
      "-------\n",
      "  | |  \n",
      "  | |  \n",
      "  | |  \n",
      "-------\n",
      "  | |  \n",
      "  | |  \n",
      "  | |  \n"
     ]
    }
   ],
   "source": [
    "test_board=['#',' ',' ',' ',' ',' ',' ',' ',' ',' ']\n",
    "place_marker(test_board,'X',8)\n",
    "display_board(test_board)"
   ]
  },
  {
   "cell_type": "markdown",
   "metadata": {},
   "source": [
    "**Step 4: Write a function that takes in a board and a mark (X or O) and then checks to see if that mark has won. **"
   ]
  },
  {
   "cell_type": "code",
   "execution_count": 8,
   "metadata": {},
   "outputs": [],
   "source": [
    "def win_check(board, mark):\n",
    "    winboard = [mark,mark,mark]\n",
    "    if board[1:4] == winboard or board[4:7] == winboard or board[7:10] == winboard or board[1:8:3] == winboard:\n",
    "        return True\n",
    "    elif board[2:9:3] == winboard or board[3:10:3] == winboard or board[1:10:4] == winboard or board[7:2:-2] == winboard:\n",
    "        return True\n",
    "    return False"
   ]
  },
  {
   "cell_type": "markdown",
   "metadata": {},
   "source": [
    "**TEST Step 4:** run the win_check function against our test_board - it should return True"
   ]
  },
  {
   "cell_type": "code",
   "execution_count": 9,
   "metadata": {},
   "outputs": [
    {
     "data": {
      "text/plain": [
       "False"
      ]
     },
     "execution_count": 9,
     "metadata": {},
     "output_type": "execute_result"
    }
   ],
   "source": [
    "test_board\n",
    "win_check(test_board,'X')\n",
    "#['#', '1', '2', '3', '4', '5', '6', '7', '8', '9'][2:9:3]"
   ]
  },
  {
   "cell_type": "markdown",
   "metadata": {},
   "source": [
    "**Step 5: Write a function that uses the random module to randomly decide which player goes first. You may want to lookup random.randint() Return a string of which player went first.**"
   ]
  },
  {
   "cell_type": "code",
   "execution_count": 10,
   "metadata": {},
   "outputs": [],
   "source": [
    "import random\n",
    "\n",
    "def choose_first():\n",
    "    return random.randint(1,2)"
   ]
  },
  {
   "cell_type": "markdown",
   "metadata": {},
   "source": [
    "**Step 6: Write a function that returns a boolean indicating whether a space on the board is freely available.**"
   ]
  },
  {
   "cell_type": "code",
   "execution_count": 11,
   "metadata": {},
   "outputs": [],
   "source": [
    "def space_check(board, position):\n",
    "    return board[position] == ' '"
   ]
  },
  {
   "cell_type": "markdown",
   "metadata": {},
   "source": [
    "**Step 7: Write a function that checks if the board is full and returns a boolean value. True if full, False otherwise.**"
   ]
  },
  {
   "cell_type": "code",
   "execution_count": 12,
   "metadata": {},
   "outputs": [],
   "source": [
    "def full_board_check(board):\n",
    "    return ' ' not in board"
   ]
  },
  {
   "cell_type": "markdown",
   "metadata": {},
   "source": [
    "**Step 8: Write a function that asks for a player's next position (as a number 1-9) and then uses the function from step 6 to check if it's a free position. If it is, then return the position for later use.**"
   ]
  },
  {
   "cell_type": "code",
   "execution_count": 13,
   "metadata": {},
   "outputs": [],
   "source": [
    "def player_choice(board):\n",
    "    position = int(input(\"Choose your next position from 1-9 : \"))\n",
    "    if position <=0 or position >=10:\n",
    "        return -1\n",
    "    if space_check(board, position):\n",
    "        return position\n",
    "    return -1"
   ]
  },
  {
   "cell_type": "markdown",
   "metadata": {},
   "source": [
    "**Step 9: Write a function that asks the player if they want to play again and returns a boolean True if they do want to play again.**"
   ]
  },
  {
   "cell_type": "code",
   "execution_count": 14,
   "metadata": {},
   "outputs": [],
   "source": [
    "def replay():\n",
    "    \n",
    "    pass"
   ]
  },
  {
   "cell_type": "markdown",
   "metadata": {
    "collapsed": true
   },
   "source": [
    "**Step 10: Here comes the hard part! Use while loops and the functions you've made to run the game!**"
   ]
  },
  {
   "cell_type": "code",
   "execution_count": 16,
   "metadata": {
    "scrolled": true
   },
   "outputs": [
    {
     "name": "stdout",
     "output_type": "stream",
     "text": [
      "  | |  \n",
      " X|O|O \n",
      "  | |  \n",
      "-------\n",
      "  | |  \n",
      " O|O|X \n",
      "  | |  \n",
      "-------\n",
      "  | |  \n",
      " X|X|O \n",
      "  | |  \n",
      "Game Over!!! Draw\n"
     ]
    }
   ],
   "source": [
    "from IPython.display import clear_output\n",
    "print('Welcome to Tic Tac Toe!')\n",
    "marker = {'player1': '', 'player2' : ''}\n",
    "board = ['#',' ',' ',' ',' ',' ',' ',' ',' ',' ']\n",
    "whoisplaying = 'player1'\n",
    "player_input()\n",
    "marker['player1'] = player1\n",
    "marker['player2'] = player2\n",
    "marker\n",
    "while True:\n",
    "    clear_output()\n",
    "    position = -1\n",
    "    if full_board_check(board):\n",
    "        display_board(board)\n",
    "        print('Game Over!!! Draw')\n",
    "        break\n",
    "    #print(player1)\n",
    "    display_board(board)\n",
    "    \n",
    "    \n",
    "    #ask player to input position\n",
    "    while position <= 0 or position >= 10:\n",
    "        print(f'{whoisplaying} please choose your position')\n",
    "        position = player_choice(board)\n",
    "        if position <= 0 or position >= 10:\n",
    "            print(\"invalid position please choose again\")\n",
    "    \n",
    "    place_marker(board, marker[whoisplaying], position )\n",
    "    if win_check(board, marker[whoisplaying]):\n",
    "        display_board(board)\n",
    "        print(f'{whoisplaying} won the game!!!')\n",
    "        break\n",
    "    if(whoisplaying == 'player1'):\n",
    "        whoisplaying = 'player2'\n",
    "    elif whoisplaying == 'player2':\n",
    "        whoisplaying = 'player1'\n",
    "    # Set the game up her\n",
    "    #pass\n",
    "\n",
    "    #while game_on:\n",
    "        #Player 1 Turn\n",
    "        \n",
    "        \n",
    "        # Player2's turn.\n",
    "            \n",
    "            #pass\n",
    "\n",
    "    #if not replay():\n",
    "        #break"
   ]
  },
  {
   "cell_type": "markdown",
   "metadata": {
    "collapsed": true
   },
   "source": [
    "## Good Job!"
   ]
  },
  {
   "cell_type": "code",
   "execution_count": null,
   "metadata": {},
   "outputs": [],
   "source": []
  }
 ],
 "metadata": {
  "kernelspec": {
   "display_name": "Python 3",
   "language": "python",
   "name": "python3"
  },
  "language_info": {
   "codemirror_mode": {
    "name": "ipython",
    "version": 3
   },
   "file_extension": ".py",
   "mimetype": "text/x-python",
   "name": "python",
   "nbconvert_exporter": "python",
   "pygments_lexer": "ipython3",
   "version": "3.7.4"
  }
 },
 "nbformat": 4,
 "nbformat_minor": 1
}
